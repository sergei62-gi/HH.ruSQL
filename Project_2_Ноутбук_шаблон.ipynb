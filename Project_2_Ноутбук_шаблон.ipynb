{
 "cells": [
  {
   "cell_type": "markdown",
   "id": "42289889-bd57-434e-9637-d3e354756316",
   "metadata": {
    "id": "42289889-bd57-434e-9637-d3e354756316"
   },
   "source": [
    "<center> <img src = https://raw.githubusercontent.com/AndreyRysistov/DatasetsForPandas/main/hh%20label.jpg alt=\"drawing\" style=\"width:400px;\">"
   ]
  },
  {
   "cell_type": "markdown",
   "id": "829cb75b-f14e-4ba8-9195-7ba929a7d656",
   "metadata": {
    "id": "829cb75b-f14e-4ba8-9195-7ba929a7d656",
    "tags": []
   },
   "source": [
    "# <center> Проект: Анализ вакансий из HeadHunter\n",
    "   "
   ]
  },
  {
   "cell_type": "code",
   "execution_count": 1,
   "id": "dccfde33-2452-43fb-a8a5-5c6ebc02a71d",
   "metadata": {
    "id": "dccfde33-2452-43fb-a8a5-5c6ebc02a71d"
   },
   "outputs": [
    {
     "name": "stdout",
     "output_type": "stream",
     "text": [
      "✅ Конфиг загружен: {'dbname': '***', 'user': '***', 'password': '***', 'host': '***', 'port': '***'}\n"
     ]
    }
   ],
   "source": [
    "import pandas as pd\n",
    "import psycopg2\n",
    "import requests\n",
    "from bs4 import BeautifulSoup\n",
    "from config import DB_CONFIG"
   ]
  },
  {
   "cell_type": "code",
   "execution_count": 6,
   "id": "oVKH4ehvf8Ay",
   "metadata": {
    "id": "oVKH4ehvf8Ay"
   },
   "outputs": [
    {
     "name": "stdout",
     "output_type": "stream",
     "text": [
      "✅ Подключение успешно\n"
     ]
    }
   ],
   "source": [
    "def create_connection():\n",
    "    \"\"\"Безопасное подключение к PostgreSQL\"\"\"\n",
    "    try:\n",
    "        conn = psycopg2.connect(\n",
    "            dbname=DB_CONFIG[\"dbname\"],\n",
    "            user=DB_CONFIG[\"user\"],\n",
    "            password=DB_CONFIG[\"password\"],\n",
    "            host=DB_CONFIG[\"host\"],\n",
    "            port=DB_CONFIG[\"port\"]\n",
    "        )\n",
    "        print(\"✅ Подключение успешно\")\n",
    "        return conn\n",
    "    except Exception as e:\n",
    "        print(f\"❌ Ошибка подключения: {e}\")\n",
    "        return None\n",
    "\n",
    "connection = create_connection()"
   ]
  },
  {
   "cell_type": "code",
   "execution_count": 7,
   "id": "8bf4f06d",
   "metadata": {},
   "outputs": [
    {
     "name": "stdout",
     "output_type": "stream",
     "text": [
      "Параметры подключения: dict_items([('dbname', 'project_sql'), ('user', 'skillfactory'), ('password', 'cCkxxLVrDE8EbvjueeMedPKt'), ('host', '84.201.134.129'), ('port', 5432)])\n"
     ]
    }
   ],
   "source": [
    "print(\"Параметры подключения:\",  DB_CONFIG.items())"
   ]
  },
  {
   "cell_type": "markdown",
   "id": "0dc6476b-7a00-44f1-ac93-6e3baed33a29",
   "metadata": {
    "id": "0dc6476b-7a00-44f1-ac93-6e3baed33a29"
   },
   "source": [
    "# Юнит 3. Предварительный анализ данных"
   ]
  },
  {
   "cell_type": "markdown",
   "id": "889782b6-8d1c-410e-8920-e57f27917c64",
   "metadata": {
    "id": "889782b6-8d1c-410e-8920-e57f27917c64"
   },
   "source": [
    "1. Напишите запрос, который посчитает количество вакансий в нашей базе (вакансии находятся в таблице vacancies). "
   ]
  },
  {
   "cell_type": "code",
   "execution_count": 8,
   "id": "bc39e68e-ed02-4ee2-9235-7258a2f867a8",
   "metadata": {
    "id": "bc39e68e-ed02-4ee2-9235-7258a2f867a8"
   },
   "outputs": [],
   "source": [
    "# SQL запрос для получения количества вакансий\n",
    "query = \"\"\"\n",
    "         SELECT count(id)\n",
    "         FROM public.VACANCIES\n",
    "\"\"\""
   ]
  },
  {
   "cell_type": "code",
   "execution_count": 9,
   "id": "7mAwtsk4hEHY",
   "metadata": {
    "id": "7mAwtsk4hEHY"
   },
   "outputs": [
    {
     "name": "stdout",
     "output_type": "stream",
     "text": [
      "Вакансий в базе данных: 49197\n"
     ]
    },
    {
     "name": "stderr",
     "output_type": "stream",
     "text": [
      "/var/folders/mq/mckdrm5j7zn2z8xvrsj5_s180000gn/T/ipykernel_7885/1532738938.py:2: UserWarning: pandas only supports SQLAlchemy connectable (engine/connection) or database string URI or sqlite3 DBAPI2 connection. Other DBAPI2 objects are not tested. Please consider using SQLAlchemy.\n",
      "  df = pd.read_sql_query(query, connection)\n"
     ]
    }
   ],
   "source": [
    "# Выполнение запроса и загрузка результата в DataFrame\n",
    "df = pd.read_sql_query(query, connection)\n",
    "\n",
    "# Извлечение числа из результата и вывод его\n",
    "number_of_vacancies = df.iloc[0, 0]\n",
    "print(f\"Вакансий в базе данных: {number_of_vacancies}\")"
   ]
  },
  {
   "cell_type": "markdown",
   "id": "b583485d-1f9e-494e-ada4-80ffff7c53d6",
   "metadata": {
    "id": "b583485d-1f9e-494e-ada4-80ffff7c53d6"
   },
   "source": [
    "2. Напишите запрос, который посчитает количество работодателей (таблица employers). "
   ]
  },
  {
   "cell_type": "code",
   "execution_count": null,
   "id": "5408c52c-3407-4a63-b25b-1aafa2322d28",
   "metadata": {
    "id": "5408c52c-3407-4a63-b25b-1aafa2322d28"
   },
   "outputs": [],
   "source": [
    "query = \"\"\"\n",
    "         SELECT count(id)\n",
    "         FROM public.EMPLOYERS\n",
    "\"\"\""
   ]
  },
  {
   "cell_type": "code",
   "execution_count": null,
   "id": "jVL4eshKhdqc",
   "metadata": {
    "id": "jVL4eshKhdqc"
   },
   "outputs": [
    {
     "name": "stdout",
     "output_type": "stream",
     "text": [
      "работодателей в базе данных: 49197\n"
     ]
    },
    {
     "name": "stderr",
     "output_type": "stream",
     "text": [
      "/var/folders/mq/mckdrm5j7zn2z8xvrsj5_s180000gn/T/ipykernel_2718/3534574006.py:2: UserWarning: pandas only supports SQLAlchemy connectable (engine/connection) or database string URI or sqlite3 DBAPI2 connection. Other DBAPI2 objects are not tested. Please consider using SQLAlchemy.\n",
      "  df = pd.read_sql_query(query, connection)\n"
     ]
    }
   ],
   "source": [
    "# Выполнение запроса и загрузка результата в DataFrame\n",
    "df = pd.read_sql_query(query, connection)\n",
    "\n",
    "# Извлечение числа из результата и вывод его\n",
    "count_of_employers= df.iloc[0, 0]\n",
    "print(f\"работодателей в базе данных: {number_of_vacancies}\")"
   ]
  },
  {
   "cell_type": "markdown",
   "id": "a2bfff1f-c975-4bf6-84be-2185d79dcb76",
   "metadata": {
    "id": "a2bfff1f-c975-4bf6-84be-2185d79dcb76"
   },
   "source": [
    "3. Посчитате с помощью запроса количество регионов (таблица areas)."
   ]
  },
  {
   "cell_type": "code",
   "execution_count": null,
   "id": "1m8QJwBYhey6",
   "metadata": {
    "id": "1m8QJwBYhey6"
   },
   "outputs": [],
   "source": [
    "query = \"\"\"\n",
    "         SELECT count(id)\n",
    "         FROM public.AREAS\n",
    "\"\"\""
   ]
  },
  {
   "cell_type": "code",
   "execution_count": null,
   "id": "EZsn9tlfhe7f",
   "metadata": {
    "id": "EZsn9tlfhe7f"
   },
   "outputs": [
    {
     "name": "stdout",
     "output_type": "stream",
     "text": [
      "регионов в базе данных: 1362\n"
     ]
    },
    {
     "name": "stderr",
     "output_type": "stream",
     "text": [
      "/var/folders/mq/mckdrm5j7zn2z8xvrsj5_s180000gn/T/ipykernel_2718/2764238379.py:2: UserWarning: pandas only supports SQLAlchemy connectable (engine/connection) or database string URI or sqlite3 DBAPI2 connection. Other DBAPI2 objects are not tested. Please consider using SQLAlchemy.\n",
      "  df = pd.read_sql_query(query, connection)\n"
     ]
    }
   ],
   "source": [
    "# Выполнение запроса и загрузка результата в DataFrame\n",
    "df = pd.read_sql_query(query, connection)\n",
    "\n",
    "# Извлечение числа из результата и вывод его\n",
    "regions = df.iloc[0, 0]\n",
    "print(f\"регионов в базе данных: {regions}\")"
   ]
  },
  {
   "cell_type": "markdown",
   "id": "41bb59f3-53cc-4a67-a5bc-bedf573955e4",
   "metadata": {
    "id": "41bb59f3-53cc-4a67-a5bc-bedf573955e4"
   },
   "source": [
    "4. Посчитате с помощью запроса количество сфер деятельности в базе (таблица industries)."
   ]
  },
  {
   "cell_type": "code",
   "execution_count": null,
   "id": "d286cf4c-707b-4cd2-9190-7ab3587d04a1",
   "metadata": {
    "id": "d286cf4c-707b-4cd2-9190-7ab3587d04a1"
   },
   "outputs": [],
   "source": [
    "query = \"\"\"\n",
    "         SELECT count(id)\n",
    "         FROM public.INDUSTRIES\n",
    "\"\"\""
   ]
  },
  {
   "cell_type": "code",
   "execution_count": null,
   "id": "JYAaoZ4qhfzW",
   "metadata": {
    "id": "JYAaoZ4qhfzW"
   },
   "outputs": [
    {
     "name": "stdout",
     "output_type": "stream",
     "text": [
      "сфер деятельности в базе данных: 294\n"
     ]
    },
    {
     "name": "stderr",
     "output_type": "stream",
     "text": [
      "/var/folders/mq/mckdrm5j7zn2z8xvrsj5_s180000gn/T/ipykernel_2718/3883410565.py:2: UserWarning: pandas only supports SQLAlchemy connectable (engine/connection) or database string URI or sqlite3 DBAPI2 connection. Other DBAPI2 objects are not tested. Please consider using SQLAlchemy.\n",
      "  df = pd.read_sql_query(query, connection)\n"
     ]
    }
   ],
   "source": [
    "# Выполнение запроса и загрузка результата в DataFrame\n",
    "df = pd.read_sql_query(query, connection)\n",
    "\n",
    "# Извлечение числа из результата и вывод его\n",
    "count_of_industry_sectors = df.iloc[0, 0]\n",
    "print(f\"сфер деятельности в базе данных: {count_of_industry_sectors}\")"
   ]
  },
  {
   "cell_type": "markdown",
   "id": "b4d26799",
   "metadata": {},
   "source": [
    "Для предварительного анализа данных можно сделать несколько основных выводов из полученной информации:\n",
    "\n",
    "1. **Количество вакансий**: Вы получили общее количество записей о вакансиях в базе данных. Это число показывает общую активность на рынке труда, охваченную вашей базой данных.\n",
    "\n",
    "2. **Количество работодателей**: Это число является индикатором разнообразия и насыщенности рынка труда, так как показывает, сколько различных работодателей представлено в вашей базе данных.\n",
    "\n",
    "3. **Количество регионов**: Число регионов в вашей базе данных может свидетельствовать о географическом охвате собранной информации. Чем больше регионов, тем шире охват.\n",
    "\n",
    "4. **Количество сфер деятельности**: Это число указывает на разнообразие индустрий и отраслей, представленных в вашей базе данных. Оно может помочь понять, какие сектора экономики наиболее активны в плане вакансий."
   ]
  },
  {
   "cell_type": "markdown",
   "id": "9a8a2181-6914-448b-85f1-38f5f18b8a93",
   "metadata": {
    "id": "9a8a2181-6914-448b-85f1-38f5f18b8a93"
   },
   "source": [
    "***"
   ]
  },
  {
   "cell_type": "markdown",
   "id": "8d62a9f3-f64e-4fe7-bdac-c4dffa16155e",
   "metadata": {
    "id": "8d62a9f3-f64e-4fe7-bdac-c4dffa16155e"
   },
   "source": [
    "# Юнит 4. Детальный анализ вакансий"
   ]
  },
  {
   "cell_type": "markdown",
   "id": "93053d3d-b284-481a-9cf7-012d7014c0e0",
   "metadata": {
    "id": "93053d3d-b284-481a-9cf7-012d7014c0e0"
   },
   "source": [
    "1. Напишите запрос, который позволит узнать, сколько (cnt) вакансий в каждом регионе (area).\n",
    "Отсортируйте по количеству вакансий в порядке убывания."
   ]
  },
  {
   "cell_type": "code",
   "execution_count": null,
   "id": "3f069da6-fdc9-4ae7-b514-fafe2675efd3",
   "metadata": {
    "id": "3f069da6-fdc9-4ae7-b514-fafe2675efd3"
   },
   "outputs": [],
   "source": [
    "query = \"\"\"\n",
    "        SELECT\n",
    "                a.name as area,\n",
    "                COUNT(v.id)\n",
    "        FROM public.AREAS as a\n",
    "                join public.VACANCIES as v on a.id = v.area_id\n",
    "        GROUP BY a.name \n",
    "        ORDER BY COUNT(v.id) DESC;\n",
    "\"\"\""
   ]
  },
  {
   "cell_type": "code",
   "execution_count": null,
   "id": "P7QL86hrjhRJ",
   "metadata": {
    "id": "P7QL86hrjhRJ"
   },
   "outputs": [
    {
     "name": "stderr",
     "output_type": "stream",
     "text": [
      "/var/folders/mq/mckdrm5j7zn2z8xvrsj5_s180000gn/T/ipykernel_2718/3475273297.py:1: UserWarning: pandas only supports SQLAlchemy connectable (engine/connection) or database string URI or sqlite3 DBAPI2 connection. Other DBAPI2 objects are not tested. Please consider using SQLAlchemy.\n",
      "  df = pd.read_sql_query(query, connection)\n"
     ]
    },
    {
     "data": {
      "text/html": [
       "<div>\n",
       "<style scoped>\n",
       "    .dataframe tbody tr th:only-of-type {\n",
       "        vertical-align: middle;\n",
       "    }\n",
       "\n",
       "    .dataframe tbody tr th {\n",
       "        vertical-align: top;\n",
       "    }\n",
       "\n",
       "    .dataframe thead th {\n",
       "        text-align: right;\n",
       "    }\n",
       "</style>\n",
       "<table border=\"1\" class=\"dataframe\">\n",
       "  <thead>\n",
       "    <tr style=\"text-align: right;\">\n",
       "      <th></th>\n",
       "      <th>area</th>\n",
       "      <th>count</th>\n",
       "    </tr>\n",
       "  </thead>\n",
       "  <tbody>\n",
       "    <tr>\n",
       "      <th>0</th>\n",
       "      <td>Москва</td>\n",
       "      <td>5333</td>\n",
       "    </tr>\n",
       "    <tr>\n",
       "      <th>1</th>\n",
       "      <td>Санкт-Петербург</td>\n",
       "      <td>2851</td>\n",
       "    </tr>\n",
       "    <tr>\n",
       "      <th>2</th>\n",
       "      <td>Минск</td>\n",
       "      <td>2112</td>\n",
       "    </tr>\n",
       "    <tr>\n",
       "      <th>3</th>\n",
       "      <td>Новосибирск</td>\n",
       "      <td>2006</td>\n",
       "    </tr>\n",
       "    <tr>\n",
       "      <th>4</th>\n",
       "      <td>Алматы</td>\n",
       "      <td>1892</td>\n",
       "    </tr>\n",
       "    <tr>\n",
       "      <th>...</th>\n",
       "      <td>...</td>\n",
       "      <td>...</td>\n",
       "    </tr>\n",
       "    <tr>\n",
       "      <th>764</th>\n",
       "      <td>Тарко-Сале</td>\n",
       "      <td>1</td>\n",
       "    </tr>\n",
       "    <tr>\n",
       "      <th>765</th>\n",
       "      <td>Новоаннинский</td>\n",
       "      <td>1</td>\n",
       "    </tr>\n",
       "    <tr>\n",
       "      <th>766</th>\n",
       "      <td>Бирск</td>\n",
       "      <td>1</td>\n",
       "    </tr>\n",
       "    <tr>\n",
       "      <th>767</th>\n",
       "      <td>Сасово</td>\n",
       "      <td>1</td>\n",
       "    </tr>\n",
       "    <tr>\n",
       "      <th>768</th>\n",
       "      <td>Анна</td>\n",
       "      <td>1</td>\n",
       "    </tr>\n",
       "  </tbody>\n",
       "</table>\n",
       "<p>769 rows × 2 columns</p>\n",
       "</div>"
      ],
      "text/plain": [
       "                area  count\n",
       "0             Москва   5333\n",
       "1    Санкт-Петербург   2851\n",
       "2              Минск   2112\n",
       "3        Новосибирск   2006\n",
       "4             Алматы   1892\n",
       "..               ...    ...\n",
       "764       Тарко-Сале      1\n",
       "765    Новоаннинский      1\n",
       "766            Бирск      1\n",
       "767           Сасово      1\n",
       "768             Анна      1\n",
       "\n",
       "[769 rows x 2 columns]"
      ]
     },
     "metadata": {},
     "output_type": "display_data"
    }
   ],
   "source": [
    "df = pd.read_sql_query(query, connection)\n",
    "display(df)"
   ]
  },
  {
   "cell_type": "markdown",
   "id": "4266f0b6-1646-492a-88b4-2f6a46502135",
   "metadata": {
    "id": "4266f0b6-1646-492a-88b4-2f6a46502135"
   },
   "source": [
    "2. Напишите запрос, чтобы определить у какого количества вакансий заполнено хотя бы одно из двух полей с зарплатой."
   ]
  },
  {
   "cell_type": "code",
   "execution_count": null,
   "id": "0c44b350-72eb-4d65-8b54-a1fc449ba9fd",
   "metadata": {
    "id": "0c44b350-72eb-4d65-8b54-a1fc449ba9fd"
   },
   "outputs": [],
   "source": [
    "query = \"\"\"\n",
    "         SELECT count(id) as cnt\n",
    "         FROM public.VACANCIES\n",
    "         WHERE (salary_from is not NULL) or (salary_to is not NULL)\n",
    "\"\"\""
   ]
  },
  {
   "cell_type": "code",
   "execution_count": null,
   "id": "rhvwaMDkoWTi",
   "metadata": {
    "id": "rhvwaMDkoWTi"
   },
   "outputs": [
    {
     "name": "stderr",
     "output_type": "stream",
     "text": [
      "/var/folders/mq/mckdrm5j7zn2z8xvrsj5_s180000gn/T/ipykernel_2718/3627844437.py:1: UserWarning: pandas only supports SQLAlchemy connectable (engine/connection) or database string URI or sqlite3 DBAPI2 connection. Other DBAPI2 objects are not tested. Please consider using SQLAlchemy.\n",
      "  df = pd.read_sql_query(query, connection)\n"
     ]
    },
    {
     "name": "stdout",
     "output_type": "stream",
     "text": [
      "количества вакансий у которых заполнено хотя бы одно из двух полей с зарплатой: 49197\n"
     ]
    }
   ],
   "source": [
    "df = pd.read_sql_query(query, connection)\n",
    "\n",
    "count_of_vacancies = df.iloc[0, 0]\n",
    "print(f\"количества вакансий у которых заполнено хотя бы одно из двух полей с зарплатой: {number_of_vacancies}\")"
   ]
  },
  {
   "cell_type": "markdown",
   "id": "635c4d5d-f323-4c66-b428-50a088120aa0",
   "metadata": {
    "id": "635c4d5d-f323-4c66-b428-50a088120aa0"
   },
   "source": [
    "3. Найдите средние значения для нижней и верхней границы зарплатной вилки. Округлите значения до целого."
   ]
  },
  {
   "cell_type": "code",
   "execution_count": null,
   "id": "603cdbe4-0ec3-4106-8eaf-c73fcdd29165",
   "metadata": {
    "id": "603cdbe4-0ec3-4106-8eaf-c73fcdd29165"
   },
   "outputs": [],
   "source": [
    "query = \"\"\"\n",
    "         SELECT \n",
    "            AVG(salary_from) as mean_salary_from,\n",
    "            AVG(salary_to) as mean_salary_to\n",
    "         FROM public.VACANCIES\n",
    "\"\"\""
   ]
  },
  {
   "cell_type": "code",
   "execution_count": null,
   "id": "pswpAb66ovZZ",
   "metadata": {
    "id": "pswpAb66ovZZ"
   },
   "outputs": [
    {
     "name": "stderr",
     "output_type": "stream",
     "text": [
      "/var/folders/mq/mckdrm5j7zn2z8xvrsj5_s180000gn/T/ipykernel_2718/2645030245.py:1: UserWarning: pandas only supports SQLAlchemy connectable (engine/connection) or database string URI or sqlite3 DBAPI2 connection. Other DBAPI2 objects are not tested. Please consider using SQLAlchemy.\n",
      "  df = pd.read_sql_query(query, connection)\n"
     ]
    },
    {
     "name": "stdout",
     "output_type": "stream",
     "text": [
      "средние значения для нижней границы зарплатной вилки: 71065,\n",
      "средние значения для верхней границы зарплатной вилки: 110537\n"
     ]
    }
   ],
   "source": [
    "df = pd.read_sql_query(query, connection)\n",
    "\n",
    "mean_salary_from = df.iloc[0, 0]\n",
    "mean_salary_to = df.iloc[0, 1]\n",
    "print(f\"\"\"средние значения для нижней границы зарплатной вилки: {round(mean_salary_from)},\n",
    "средние значения для верхней границы зарплатной вилки: {round(mean_salary_to)}\"\"\")"
   ]
  },
  {
   "cell_type": "markdown",
   "id": "f3fdaec9-5fd3-4260-9cf5-1d7406b628a5",
   "metadata": {
    "id": "f3fdaec9-5fd3-4260-9cf5-1d7406b628a5"
   },
   "source": [
    "4. Напишите запрос, который выведет количество вакансий для каждого сочетания типа рабочего графика (schedule) и типа трудоустройства (employment), используемого в вакансиях. Результат отсортируйте по убыванию количества.\n"
   ]
  },
  {
   "cell_type": "code",
   "execution_count": null,
   "id": "1ea710ec-871b-431e-9462-c7d0fd87011b",
   "metadata": {
    "id": "1ea710ec-871b-431e-9462-c7d0fd87011b"
   },
   "outputs": [],
   "source": [
    "query = \"\"\"\n",
    "         SELECT\n",
    "            schedule,\n",
    "            employment,\n",
    "            count(id)\n",
    "         FROM public.VACANCIES\n",
    "         GROUP BY \n",
    "            schedule,\n",
    "            employment\n",
    "        ORDER BY\n",
    "            count(id) DESC\n",
    "\"\"\""
   ]
  },
  {
   "cell_type": "code",
   "execution_count": null,
   "id": "lGUVqavdo4JQ",
   "metadata": {
    "id": "lGUVqavdo4JQ"
   },
   "outputs": [
    {
     "name": "stderr",
     "output_type": "stream",
     "text": [
      "/var/folders/mq/mckdrm5j7zn2z8xvrsj5_s180000gn/T/ipykernel_2718/3475273297.py:1: UserWarning: pandas only supports SQLAlchemy connectable (engine/connection) or database string URI or sqlite3 DBAPI2 connection. Other DBAPI2 objects are not tested. Please consider using SQLAlchemy.\n",
      "  df = pd.read_sql_query(query, connection)\n"
     ]
    },
    {
     "data": {
      "text/html": [
       "<div>\n",
       "<style scoped>\n",
       "    .dataframe tbody tr th:only-of-type {\n",
       "        vertical-align: middle;\n",
       "    }\n",
       "\n",
       "    .dataframe tbody tr th {\n",
       "        vertical-align: top;\n",
       "    }\n",
       "\n",
       "    .dataframe thead th {\n",
       "        text-align: right;\n",
       "    }\n",
       "</style>\n",
       "<table border=\"1\" class=\"dataframe\">\n",
       "  <thead>\n",
       "    <tr style=\"text-align: right;\">\n",
       "      <th></th>\n",
       "      <th>schedule</th>\n",
       "      <th>employment</th>\n",
       "      <th>count</th>\n",
       "    </tr>\n",
       "  </thead>\n",
       "  <tbody>\n",
       "    <tr>\n",
       "      <th>0</th>\n",
       "      <td>Полный день</td>\n",
       "      <td>Полная занятость</td>\n",
       "      <td>35367</td>\n",
       "    </tr>\n",
       "    <tr>\n",
       "      <th>1</th>\n",
       "      <td>Удаленная работа</td>\n",
       "      <td>Полная занятость</td>\n",
       "      <td>7802</td>\n",
       "    </tr>\n",
       "    <tr>\n",
       "      <th>2</th>\n",
       "      <td>Гибкий график</td>\n",
       "      <td>Полная занятость</td>\n",
       "      <td>1593</td>\n",
       "    </tr>\n",
       "    <tr>\n",
       "      <th>3</th>\n",
       "      <td>Удаленная работа</td>\n",
       "      <td>Частичная занятость</td>\n",
       "      <td>1312</td>\n",
       "    </tr>\n",
       "    <tr>\n",
       "      <th>4</th>\n",
       "      <td>Сменный график</td>\n",
       "      <td>Полная занятость</td>\n",
       "      <td>940</td>\n",
       "    </tr>\n",
       "    <tr>\n",
       "      <th>5</th>\n",
       "      <td>Полный день</td>\n",
       "      <td>Стажировка</td>\n",
       "      <td>569</td>\n",
       "    </tr>\n",
       "    <tr>\n",
       "      <th>6</th>\n",
       "      <td>Вахтовый метод</td>\n",
       "      <td>Полная занятость</td>\n",
       "      <td>367</td>\n",
       "    </tr>\n",
       "    <tr>\n",
       "      <th>7</th>\n",
       "      <td>Полный день</td>\n",
       "      <td>Частичная занятость</td>\n",
       "      <td>347</td>\n",
       "    </tr>\n",
       "    <tr>\n",
       "      <th>8</th>\n",
       "      <td>Гибкий график</td>\n",
       "      <td>Частичная занятость</td>\n",
       "      <td>312</td>\n",
       "    </tr>\n",
       "    <tr>\n",
       "      <th>9</th>\n",
       "      <td>Полный день</td>\n",
       "      <td>Проектная работа</td>\n",
       "      <td>141</td>\n",
       "    </tr>\n",
       "    <tr>\n",
       "      <th>10</th>\n",
       "      <td>Удаленная работа</td>\n",
       "      <td>Проектная работа</td>\n",
       "      <td>133</td>\n",
       "    </tr>\n",
       "    <tr>\n",
       "      <th>11</th>\n",
       "      <td>Гибкий график</td>\n",
       "      <td>Стажировка</td>\n",
       "      <td>116</td>\n",
       "    </tr>\n",
       "    <tr>\n",
       "      <th>12</th>\n",
       "      <td>Сменный график</td>\n",
       "      <td>Частичная занятость</td>\n",
       "      <td>101</td>\n",
       "    </tr>\n",
       "    <tr>\n",
       "      <th>13</th>\n",
       "      <td>Удаленная работа</td>\n",
       "      <td>Стажировка</td>\n",
       "      <td>64</td>\n",
       "    </tr>\n",
       "    <tr>\n",
       "      <th>14</th>\n",
       "      <td>Гибкий график</td>\n",
       "      <td>Проектная работа</td>\n",
       "      <td>18</td>\n",
       "    </tr>\n",
       "    <tr>\n",
       "      <th>15</th>\n",
       "      <td>Сменный график</td>\n",
       "      <td>Стажировка</td>\n",
       "      <td>12</td>\n",
       "    </tr>\n",
       "    <tr>\n",
       "      <th>16</th>\n",
       "      <td>Вахтовый метод</td>\n",
       "      <td>Проектная работа</td>\n",
       "      <td>2</td>\n",
       "    </tr>\n",
       "    <tr>\n",
       "      <th>17</th>\n",
       "      <td>Сменный график</td>\n",
       "      <td>Проектная работа</td>\n",
       "      <td>1</td>\n",
       "    </tr>\n",
       "  </tbody>\n",
       "</table>\n",
       "</div>"
      ],
      "text/plain": [
       "            schedule           employment  count\n",
       "0        Полный день     Полная занятость  35367\n",
       "1   Удаленная работа     Полная занятость   7802\n",
       "2      Гибкий график     Полная занятость   1593\n",
       "3   Удаленная работа  Частичная занятость   1312\n",
       "4     Сменный график     Полная занятость    940\n",
       "5        Полный день           Стажировка    569\n",
       "6     Вахтовый метод     Полная занятость    367\n",
       "7        Полный день  Частичная занятость    347\n",
       "8      Гибкий график  Частичная занятость    312\n",
       "9        Полный день     Проектная работа    141\n",
       "10  Удаленная работа     Проектная работа    133\n",
       "11     Гибкий график           Стажировка    116\n",
       "12    Сменный график  Частичная занятость    101\n",
       "13  Удаленная работа           Стажировка     64\n",
       "14     Гибкий график     Проектная работа     18\n",
       "15    Сменный график           Стажировка     12\n",
       "16    Вахтовый метод     Проектная работа      2\n",
       "17    Сменный график     Проектная работа      1"
      ]
     },
     "metadata": {},
     "output_type": "display_data"
    }
   ],
   "source": [
    "df = pd.read_sql_query(query, connection)\n",
    "display(df)"
   ]
  },
  {
   "cell_type": "markdown",
   "id": "0136ffee-0ead-4a6b-b608-61d1c753a438",
   "metadata": {
    "id": "0136ffee-0ead-4a6b-b608-61d1c753a438"
   },
   "source": [
    "5. Напишите запрос, выводящий значения поля Требуемый опыт работы (experience) в порядке возрастания количества вакансий, в которых указан данный вариант опыта. "
   ]
  },
  {
   "cell_type": "code",
   "execution_count": null,
   "id": "5b3a8e79-f7ab-4008-b767-12aea3a205ea",
   "metadata": {
    "id": "5b3a8e79-f7ab-4008-b767-12aea3a205ea"
   },
   "outputs": [],
   "source": [
    "query = \"\"\"\n",
    "         SELECT \n",
    "            experience,\n",
    "            COUNT(id)\n",
    "         FROM public.VACANCIES\n",
    "         GROUP BY\n",
    "            experience\n",
    "         ORDER BY \n",
    "            COUNT(id) ASC\n",
    "            \n",
    "\"\"\""
   ]
  },
  {
   "cell_type": "code",
   "execution_count": null,
   "id": "3Is64Y-hpDpq",
   "metadata": {
    "id": "3Is64Y-hpDpq"
   },
   "outputs": [
    {
     "name": "stderr",
     "output_type": "stream",
     "text": [
      "/var/folders/mq/mckdrm5j7zn2z8xvrsj5_s180000gn/T/ipykernel_2718/3475273297.py:1: UserWarning: pandas only supports SQLAlchemy connectable (engine/connection) or database string URI or sqlite3 DBAPI2 connection. Other DBAPI2 objects are not tested. Please consider using SQLAlchemy.\n",
      "  df = pd.read_sql_query(query, connection)\n"
     ]
    },
    {
     "data": {
      "text/html": [
       "<div>\n",
       "<style scoped>\n",
       "    .dataframe tbody tr th:only-of-type {\n",
       "        vertical-align: middle;\n",
       "    }\n",
       "\n",
       "    .dataframe tbody tr th {\n",
       "        vertical-align: top;\n",
       "    }\n",
       "\n",
       "    .dataframe thead th {\n",
       "        text-align: right;\n",
       "    }\n",
       "</style>\n",
       "<table border=\"1\" class=\"dataframe\">\n",
       "  <thead>\n",
       "    <tr style=\"text-align: right;\">\n",
       "      <th></th>\n",
       "      <th>experience</th>\n",
       "      <th>count</th>\n",
       "    </tr>\n",
       "  </thead>\n",
       "  <tbody>\n",
       "    <tr>\n",
       "      <th>0</th>\n",
       "      <td>Более 6 лет</td>\n",
       "      <td>1337</td>\n",
       "    </tr>\n",
       "    <tr>\n",
       "      <th>1</th>\n",
       "      <td>Нет опыта</td>\n",
       "      <td>7197</td>\n",
       "    </tr>\n",
       "    <tr>\n",
       "      <th>2</th>\n",
       "      <td>От 3 до 6 лет</td>\n",
       "      <td>14511</td>\n",
       "    </tr>\n",
       "    <tr>\n",
       "      <th>3</th>\n",
       "      <td>От 1 года до 3 лет</td>\n",
       "      <td>26152</td>\n",
       "    </tr>\n",
       "  </tbody>\n",
       "</table>\n",
       "</div>"
      ],
      "text/plain": [
       "           experience  count\n",
       "0         Более 6 лет   1337\n",
       "1           Нет опыта   7197\n",
       "2       От 3 до 6 лет  14511\n",
       "3  От 1 года до 3 лет  26152"
      ]
     },
     "metadata": {},
     "output_type": "display_data"
    }
   ],
   "source": [
    "df = pd.read_sql_query(query, connection)\n",
    "display(df)"
   ]
  },
  {
   "cell_type": "markdown",
   "id": "38d739b7",
   "metadata": {},
   "source": [
    "На основе ваших данных можно сделать несколько выводов:\n",
    "\n",
    "1. **Распределение вакансий по регионам:**\n",
    "   - Москва и Санкт-Петербург значительно лидируют по количеству вакансий с 5333 и 2851 вакансиями соответственно.\n",
    "   - Такие крупные города, как Минск и Новосибирск, также имеют значительное число вакансий, с более чем 2000 каждой.\n",
    "   - В регионах, таких как Тарко-Сале и Новоаннинский, количество вакансий значительно ниже, вплоть до единичных значений, что может свидетельствовать о меньшем количестве рабочих мест или специфике рынка труда в этих районах.\n",
    "\n",
    "2. **Зарплата:**\n",
    "   - Из 24073 вакансий, где указана зарплата, средняя нижняя граница составляет 71065, а верхняя — 110537. Это говорит о довольно широком диапазоне предложений и может указывать на разнообразие отраслей и уровней квалификации, доступных для соискателей.\n",
    "\n",
    "3. **Распределение вакансий по графику и форме занятости:**\n",
    "   - Полный день с полной занятостью является наиболее распространенным графиком, с 35367 вакансий.\n",
    "   - Удаленная работа также существенно представлена, особенно в форме полной (7802 вакансии) и частичной занятости (1312 вакансий), что подчеркивает тренд на гибкость в работе.\n",
    "   - Стажировки и проектная работа возрастают в популярности, свидетельствуя об интересе работодателей к гибким и временным формам найма.\n",
    "\n",
    "4. **Опыт работы:**\n",
    "   - Большая часть вакансий рассчитана на кандидатов с опытом от 1 до 3 лет (26152 вакансии).\n",
    "   - Вакансии для новичков тоже актуальны, с 7197 предложениями, что может способствовать привлечению молодых специалистов и выпускников.\n",
    "   - Требования к кандидатам с опытом более 6 лет составляют лишь 1337 вакансий, что предполагает меньшую потребность в высококвалифицированных кадрах или же насыщенность рынка такими специалистами."
   ]
  },
  {
   "cell_type": "markdown",
   "id": "oq2b7n1QpIka",
   "metadata": {
    "id": "oq2b7n1QpIka"
   },
   "source": [
    "***"
   ]
  },
  {
   "cell_type": "markdown",
   "id": "7ea20ab6-04a7-40a0-adec-443a0e5a42c3",
   "metadata": {
    "id": "7ea20ab6-04a7-40a0-adec-443a0e5a42c3"
   },
   "source": [
    "# Юнит 5. Анализ работодателей"
   ]
  },
  {
   "cell_type": "markdown",
   "id": "968aed80-74ef-4ffb-b5bf-c65b84e9caea",
   "metadata": {
    "id": "968aed80-74ef-4ffb-b5bf-c65b84e9caea"
   },
   "source": [
    "1. Напишите запрос, который позволит узнать, какие работодатели находятся на первом и пятом месте по количеству вакансий."
   ]
  },
  {
   "cell_type": "code",
   "execution_count": null,
   "id": "f2d62796-d400-4ec1-a675-88112739a50e",
   "metadata": {
    "id": "f2d62796-d400-4ec1-a675-88112739a50e"
   },
   "outputs": [],
   "source": [
    "query = \"\"\"\n",
    "        SELECT\n",
    "            e.name,\n",
    "            COUNT(v.id)\n",
    "        FROM public.EMPLOYERS as e\n",
    "            join public.VACANCIES as v on v.employer_id = e.id\n",
    "        GROUP BY\n",
    "            e.name\n",
    "        ORDER BY\n",
    "            COUNT(v.id) DESC\n",
    "        LIMIT 5\n",
    "\"\"\""
   ]
  },
  {
   "cell_type": "code",
   "execution_count": null,
   "id": "64tOMkAxqkQk",
   "metadata": {
    "id": "64tOMkAxqkQk"
   },
   "outputs": [
    {
     "name": "stderr",
     "output_type": "stream",
     "text": [
      "/var/folders/mq/mckdrm5j7zn2z8xvrsj5_s180000gn/T/ipykernel_2718/3475273297.py:1: UserWarning: pandas only supports SQLAlchemy connectable (engine/connection) or database string URI or sqlite3 DBAPI2 connection. Other DBAPI2 objects are not tested. Please consider using SQLAlchemy.\n",
      "  df = pd.read_sql_query(query, connection)\n"
     ]
    },
    {
     "data": {
      "text/html": [
       "<div>\n",
       "<style scoped>\n",
       "    .dataframe tbody tr th:only-of-type {\n",
       "        vertical-align: middle;\n",
       "    }\n",
       "\n",
       "    .dataframe tbody tr th {\n",
       "        vertical-align: top;\n",
       "    }\n",
       "\n",
       "    .dataframe thead th {\n",
       "        text-align: right;\n",
       "    }\n",
       "</style>\n",
       "<table border=\"1\" class=\"dataframe\">\n",
       "  <thead>\n",
       "    <tr style=\"text-align: right;\">\n",
       "      <th></th>\n",
       "      <th>name</th>\n",
       "      <th>count</th>\n",
       "    </tr>\n",
       "  </thead>\n",
       "  <tbody>\n",
       "    <tr>\n",
       "      <th>0</th>\n",
       "      <td>Яндекс</td>\n",
       "      <td>1933</td>\n",
       "    </tr>\n",
       "    <tr>\n",
       "      <th>1</th>\n",
       "      <td>Ростелеком</td>\n",
       "      <td>491</td>\n",
       "    </tr>\n",
       "    <tr>\n",
       "      <th>2</th>\n",
       "      <td>Тинькофф</td>\n",
       "      <td>444</td>\n",
       "    </tr>\n",
       "    <tr>\n",
       "      <th>3</th>\n",
       "      <td>СБЕР</td>\n",
       "      <td>428</td>\n",
       "    </tr>\n",
       "    <tr>\n",
       "      <th>4</th>\n",
       "      <td>Газпром нефть</td>\n",
       "      <td>331</td>\n",
       "    </tr>\n",
       "  </tbody>\n",
       "</table>\n",
       "</div>"
      ],
      "text/plain": [
       "            name  count\n",
       "0         Яндекс   1933\n",
       "1     Ростелеком    491\n",
       "2       Тинькофф    444\n",
       "3           СБЕР    428\n",
       "4  Газпром нефть    331"
      ]
     },
     "metadata": {},
     "output_type": "display_data"
    }
   ],
   "source": [
    "df = pd.read_sql_query(query, connection)\n",
    "display(df)"
   ]
  },
  {
   "cell_type": "markdown",
   "id": "68377cfc-b378-43dc-ab7d-1195abf2c515",
   "metadata": {
    "id": "68377cfc-b378-43dc-ab7d-1195abf2c515"
   },
   "source": [
    "2. Напишите запрос, который для каждого региона выведет количество работодателей и вакансий в нём.\n",
    "Среди регионов, в которых нет вакансий, найдите тот, в котором наибольшее количество работодателей.\n"
   ]
  },
  {
   "cell_type": "code",
   "execution_count": null,
   "id": "dd7df27a-e3e8-412e-a21a-5d389b71e891",
   "metadata": {
    "id": "dd7df27a-e3e8-412e-a21a-5d389b71e891"
   },
   "outputs": [],
   "source": [
    "query = \"\"\"\n",
    "        SELECT\n",
    "            a.name,\n",
    "            COUNT(e.id) as EMPLOYERS_COUNT,\n",
    "            COUNT(v.id) as VACANCIES_COUNT\n",
    "        FROM (public.AREAS as a\n",
    "            left join public.EMPLOYERS as e on a.id = e.area)\n",
    "            left join public.VACANCIES as v on a.id = v.area_id\n",
    "        GROUP BY\n",
    "            a.name\n",
    "        HAVING\n",
    "            COUNT(v.id) = 0\n",
    "        ORDER BY\n",
    "            COUNT(e.id) DESC\n",
    "        LIMIT 1\n",
    "\"\"\""
   ]
  },
  {
   "cell_type": "code",
   "execution_count": null,
   "id": "x1ikWbydrbf6",
   "metadata": {
    "id": "x1ikWbydrbf6"
   },
   "outputs": [
    {
     "name": "stderr",
     "output_type": "stream",
     "text": [
      "/var/folders/mq/mckdrm5j7zn2z8xvrsj5_s180000gn/T/ipykernel_2718/575047205.py:1: UserWarning: pandas only supports SQLAlchemy connectable (engine/connection) or database string URI or sqlite3 DBAPI2 connection. Other DBAPI2 objects are not tested. Please consider using SQLAlchemy.\n",
      "  df = pd.read_sql_query(query, connection)\n"
     ]
    },
    {
     "name": "stdout",
     "output_type": "stream",
     "text": [
      "регион в котором нет вакансий, но самое большое количество работодателей: Россия\n"
     ]
    }
   ],
   "source": [
    "df = pd.read_sql_query(query, connection)\n",
    "\n",
    "region = df.iloc[0, 0]\n",
    "print(f\"регион в котором нет вакансий, но самое большое количество работодателей: {region}\")"
   ]
  },
  {
   "cell_type": "markdown",
   "id": "f2fe0acb-ab1a-4e15-9326-2560e22d73c1",
   "metadata": {
    "id": "f2fe0acb-ab1a-4e15-9326-2560e22d73c1"
   },
   "source": [
    "3. Для каждого работодателя посчитайте количество регионов, в которых он публикует свои вакансии. Отсортируйте результат по убыванию количества.\n"
   ]
  },
  {
   "cell_type": "code",
   "execution_count": null,
   "id": "6271f8ad-bd2e-4196-ae4a-5b39c4c1010e",
   "metadata": {
    "id": "6271f8ad-bd2e-4196-ae4a-5b39c4c1010e"
   },
   "outputs": [],
   "source": [
    "query = \"\"\"\n",
    "        SELECT \n",
    "            e.name,\n",
    "            COUNT(DISTINCT a.id) as region_count\n",
    "        FROM (public.VACANCIES as v\n",
    "            left join public.AREAS as a on a.id = v.area_id)\n",
    "            left join public.EMPLOYERS as e on v.employer_id = e.id\n",
    "        GROUP BY \n",
    "            e.name\n",
    "        ORDER BY\n",
    "            COUNT(a.id) DESC\n",
    "\"\"\""
   ]
  },
  {
   "cell_type": "code",
   "execution_count": null,
   "id": "1EIvX3HasH4F",
   "metadata": {
    "id": "1EIvX3HasH4F"
   },
   "outputs": [
    {
     "name": "stderr",
     "output_type": "stream",
     "text": [
      "/var/folders/mq/mckdrm5j7zn2z8xvrsj5_s180000gn/T/ipykernel_2718/3475273297.py:1: UserWarning: pandas only supports SQLAlchemy connectable (engine/connection) or database string URI or sqlite3 DBAPI2 connection. Other DBAPI2 objects are not tested. Please consider using SQLAlchemy.\n",
      "  df = pd.read_sql_query(query, connection)\n"
     ]
    },
    {
     "data": {
      "text/html": [
       "<div>\n",
       "<style scoped>\n",
       "    .dataframe tbody tr th:only-of-type {\n",
       "        vertical-align: middle;\n",
       "    }\n",
       "\n",
       "    .dataframe tbody tr th {\n",
       "        vertical-align: top;\n",
       "    }\n",
       "\n",
       "    .dataframe thead th {\n",
       "        text-align: right;\n",
       "    }\n",
       "</style>\n",
       "<table border=\"1\" class=\"dataframe\">\n",
       "  <thead>\n",
       "    <tr style=\"text-align: right;\">\n",
       "      <th></th>\n",
       "      <th>name</th>\n",
       "      <th>region_count</th>\n",
       "    </tr>\n",
       "  </thead>\n",
       "  <tbody>\n",
       "    <tr>\n",
       "      <th>0</th>\n",
       "      <td>Яндекс</td>\n",
       "      <td>181</td>\n",
       "    </tr>\n",
       "    <tr>\n",
       "      <th>1</th>\n",
       "      <td>Ростелеком</td>\n",
       "      <td>152</td>\n",
       "    </tr>\n",
       "    <tr>\n",
       "      <th>2</th>\n",
       "      <td>Тинькофф</td>\n",
       "      <td>43</td>\n",
       "    </tr>\n",
       "    <tr>\n",
       "      <th>3</th>\n",
       "      <td>СБЕР</td>\n",
       "      <td>24</td>\n",
       "    </tr>\n",
       "    <tr>\n",
       "      <th>4</th>\n",
       "      <td>Газпром нефть</td>\n",
       "      <td>24</td>\n",
       "    </tr>\n",
       "    <tr>\n",
       "      <th>...</th>\n",
       "      <td>...</td>\n",
       "      <td>...</td>\n",
       "    </tr>\n",
       "    <tr>\n",
       "      <th>14761</th>\n",
       "      <td>ПСБ Инновации и Инвестиции</td>\n",
       "      <td>1</td>\n",
       "    </tr>\n",
       "    <tr>\n",
       "      <th>14762</th>\n",
       "      <td>ПСЗ Янтарь</td>\n",
       "      <td>1</td>\n",
       "    </tr>\n",
       "    <tr>\n",
       "      <th>14763</th>\n",
       "      <td>ПСК</td>\n",
       "      <td>1</td>\n",
       "    </tr>\n",
       "    <tr>\n",
       "      <th>14764</th>\n",
       "      <td>Псковский завод механических приводов</td>\n",
       "      <td>1</td>\n",
       "    </tr>\n",
       "    <tr>\n",
       "      <th>14765</th>\n",
       "      <td>ПСК ТатЭнергоСтрой</td>\n",
       "      <td>1</td>\n",
       "    </tr>\n",
       "  </tbody>\n",
       "</table>\n",
       "<p>14766 rows × 2 columns</p>\n",
       "</div>"
      ],
      "text/plain": [
       "                                        name  region_count\n",
       "0                                     Яндекс           181\n",
       "1                                 Ростелеком           152\n",
       "2                                   Тинькофф            43\n",
       "3                                       СБЕР            24\n",
       "4                              Газпром нефть            24\n",
       "...                                      ...           ...\n",
       "14761             ПСБ Инновации и Инвестиции             1\n",
       "14762                             ПСЗ Янтарь             1\n",
       "14763                                    ПСК             1\n",
       "14764  Псковский завод механических приводов             1\n",
       "14765                     ПСК ТатЭнергоСтрой             1\n",
       "\n",
       "[14766 rows x 2 columns]"
      ]
     },
     "metadata": {},
     "output_type": "display_data"
    }
   ],
   "source": [
    "df = pd.read_sql_query(query, connection)\n",
    "display(df)"
   ]
  },
  {
   "cell_type": "markdown",
   "id": "eab2206d-d95b-468b-8e5f-34381abf0ce7",
   "metadata": {
    "id": "eab2206d-d95b-468b-8e5f-34381abf0ce7"
   },
   "source": [
    "4. Напишите запрос для подсчёта количества работодателей, у которых не указана сфера деятельности. "
   ]
  },
  {
   "cell_type": "code",
   "execution_count": null,
   "id": "80defb23-bfb1-4a18-8be6-bf36aa7165d5",
   "metadata": {
    "id": "80defb23-bfb1-4a18-8be6-bf36aa7165d5"
   },
   "outputs": [],
   "source": [
    "query = \"\"\"\n",
    "        SELECT\n",
    "            COUNT(e.id)\n",
    "        FROM public.EMPLOYERS as e\n",
    "            left join public.EMPLOYERS_INDUSTRIES as ei on e.id = ei.employer_id\n",
    "        WHERE \n",
    "            ei.industry_id is null\n",
    "\"\"\""
   ]
  },
  {
   "cell_type": "code",
   "execution_count": null,
   "id": "Dp_yCx6ysQSu",
   "metadata": {
    "id": "Dp_yCx6ysQSu"
   },
   "outputs": [
    {
     "name": "stderr",
     "output_type": "stream",
     "text": [
      "/var/folders/mq/mckdrm5j7zn2z8xvrsj5_s180000gn/T/ipykernel_2718/1796317306.py:1: UserWarning: pandas only supports SQLAlchemy connectable (engine/connection) or database string URI or sqlite3 DBAPI2 connection. Other DBAPI2 objects are not tested. Please consider using SQLAlchemy.\n",
      "  value = pd.read_sql_query(query, connection).iloc[0, 0]\n"
     ]
    },
    {
     "data": {
      "text/plain": [
       "'количества работодателей, у которых не указана сфера деятельности: 8419'"
      ]
     },
     "metadata": {},
     "output_type": "display_data"
    }
   ],
   "source": [
    "value = pd.read_sql_query(query, connection).iloc[0, 0]\n",
    "display(f\"количества работодателей, у которых не указана сфера деятельности: {value}\")"
   ]
  },
  {
   "cell_type": "markdown",
   "id": "0112af31-f6b0-4e3b-82ab-71296e752e5e",
   "metadata": {
    "id": "0112af31-f6b0-4e3b-82ab-71296e752e5e"
   },
   "source": [
    "5. Напишите запрос, чтобы узнать название компании, находящейся на третьем месте в алфавитном списке (по названию) компаний, у которых указано четыре сферы деятельности. "
   ]
  },
  {
   "cell_type": "code",
   "execution_count": null,
   "id": "973b0cfc-a972-470a-8b4a-68744ef220c4",
   "metadata": {
    "id": "973b0cfc-a972-470a-8b4a-68744ef220c4"
   },
   "outputs": [],
   "source": [
    "query = \"\"\"\n",
    "        SELECT \n",
    "            e.name, \n",
    "            COUNT(ei.industry_id)\n",
    "        FROM public.EMPLOYERS as e\n",
    "            left join public.EMPLOYERS_INDUSTRIES as ei ON e.id = ei.employer_id\n",
    "        GROUP BY \n",
    "            e.id\n",
    "        HAVING \n",
    "            COUNT(ei.industry_id) = 4\n",
    "        ORDER BY \n",
    "            name\n",
    "        OFFSET 2\n",
    "        LIMIT 1\n",
    "\"\"\""
   ]
  },
  {
   "cell_type": "code",
   "execution_count": null,
   "id": "xsPtpp8EsaED",
   "metadata": {
    "id": "xsPtpp8EsaED"
   },
   "outputs": [
    {
     "name": "stdout",
     "output_type": "stream",
     "text": [
      "Название компании, находящейся на третьем месте в алфавитном списке: 2ГИС\n"
     ]
    },
    {
     "name": "stderr",
     "output_type": "stream",
     "text": [
      "/var/folders/mq/mckdrm5j7zn2z8xvrsj5_s180000gn/T/ipykernel_2718/577246709.py:1: UserWarning: pandas only supports SQLAlchemy connectable (engine/connection) or database string URI or sqlite3 DBAPI2 connection. Other DBAPI2 objects are not tested. Please consider using SQLAlchemy.\n",
      "  value = pd.read_sql_query(query, connection).iloc[0, 0]\n"
     ]
    }
   ],
   "source": [
    "value = pd.read_sql_query(query, connection).iloc[0, 0]\n",
    "print(f\"\"\"Название компании, находящейся на третьем месте в алфавитном списке: {value}\"\"\")"
   ]
  },
  {
   "cell_type": "markdown",
   "id": "3bfcfdaf-755d-4d2b-8ed8-326201dc07ab",
   "metadata": {
    "id": "3bfcfdaf-755d-4d2b-8ed8-326201dc07ab"
   },
   "source": [
    "6. С помощью запроса выясните, у какого количества работодателей в качестве сферы деятельности указана Разработка программного обеспечения.\n"
   ]
  },
  {
   "cell_type": "code",
   "execution_count": null,
   "id": "ad3f270f-2991-47eb-929b-e8f88a55b0d1",
   "metadata": {
    "id": "ad3f270f-2991-47eb-929b-e8f88a55b0d1"
   },
   "outputs": [],
   "source": [
    "query = \"\"\"\n",
    "        SELECT \n",
    "            COUNT(DISTINCT e.id)\n",
    "        FROM (public.EMPLOYERS as e\n",
    "            join public.EMPLOYERS_INDUSTRIES as ei ON e.id = ei.employer_id)\n",
    "            join public.INDUSTRIES as i ON i.id = ei.industry_id\n",
    "        WHERE \n",
    "            i.name = 'Разработка программного обеспечения'\n",
    "\"\"\""
   ]
  },
  {
   "cell_type": "code",
   "execution_count": null,
   "id": "H72qxWM0shPR",
   "metadata": {
    "id": "H72qxWM0shPR"
   },
   "outputs": [
    {
     "name": "stdout",
     "output_type": "stream",
     "text": [
      "Этот запрос подсчитает количество уникальных работодателей, связанных с индустрией 'Разработка программного обеспечения': 3553\n"
     ]
    },
    {
     "name": "stderr",
     "output_type": "stream",
     "text": [
      "/var/folders/mq/mckdrm5j7zn2z8xvrsj5_s180000gn/T/ipykernel_2718/891658512.py:1: UserWarning: pandas only supports SQLAlchemy connectable (engine/connection) or database string URI or sqlite3 DBAPI2 connection. Other DBAPI2 objects are not tested. Please consider using SQLAlchemy.\n",
      "  df = pd.read_sql_query(query, connection).iloc[0, 0]\n"
     ]
    }
   ],
   "source": [
    "df = pd.read_sql_query(query, connection).iloc[0, 0]\n",
    "print(f\"Этот запрос подсчитает количество уникальных работодателей, связанных с индустрией 'Разработка программного обеспечения': {df}\" )"
   ]
  },
  {
   "cell_type": "markdown",
   "id": "7b02bb86-0546-40fb-94a4-242f050a5c57",
   "metadata": {
    "id": "7b02bb86-0546-40fb-94a4-242f050a5c57"
   },
   "source": [
    "7. Для компании «Яндекс» выведите список регионов-миллионников, в которых представлены вакансии компании, вместе с количеством вакансий в этих регионах. Также добавьте строку Total с общим количеством вакансий компании. Результат отсортируйте по возрастанию количества.\n",
    "\n",
    "Список городов-милионников надо взять [отсюда](https://ru.wikipedia.org/wiki/%D0%93%D0%BE%D1%80%D0%BE%D0%B4%D0%B0-%D0%BC%D0%B8%D0%BB%D0%BB%D0%B8%D0%BE%D0%BD%D0%B5%D1%80%D1%8B_%D0%A0%D0%BE%D1%81%D1%81%D0%B8%D0%B8). \n",
    "\n",
    "Если возникнут трудности с этим задание посмотрите материалы модуля  PYTHON-17. Как получать данные из веб-источников и API. "
   ]
  },
  {
   "cell_type": "code",
   "execution_count": null,
   "id": "5046c0a1",
   "metadata": {},
   "outputs": [
    {
     "name": "stdout",
     "output_type": "stream",
     "text": [
      "['Москва', 'Санкт-Петербург', 'Новосибирск', 'Екатеринбург', 'Казань', 'Красноярск', 'Нижний Новгород', 'Челябинск', 'Уфа', 'Самара', 'Ростов-на-Дону', 'Краснодар', 'Омск', 'Воронеж', 'Пермь', 'Волгоград']\n"
     ]
    }
   ],
   "source": [
    "# Получаем список городов-миллионников\n",
    "url = 'https://ru.wikipedia.org/wiki/Города-миллионеры_России'\n",
    "response = requests.get(url)\n",
    "soup = BeautifulSoup(response.text, 'html.parser')\n",
    "\n",
    "# Находим таблицу с городами\n",
    "tables = soup.find_all('table', {'class': 'standard sortable'})\n",
    "million_cities = []\n",
    "\n",
    "# Берем первую таблицу и извлекаем города\n",
    "table = tables[0]\n",
    "for row in table.find_all('tr')[1:]:\n",
    "    city = row.find('a')\n",
    "    million_cities.append(city.text)\n",
    "\n",
    "print(million_cities)"
   ]
  },
  {
   "cell_type": "code",
   "execution_count": null,
   "id": "f601db8c",
   "metadata": {},
   "outputs": [
    {
     "name": "stderr",
     "output_type": "stream",
     "text": [
      "/var/folders/mq/mckdrm5j7zn2z8xvrsj5_s180000gn/T/ipykernel_2718/1078715541.py:30: UserWarning: pandas only supports SQLAlchemy connectable (engine/connection) or database string URI or sqlite3 DBAPI2 connection. Other DBAPI2 objects are not tested. Please consider using SQLAlchemy.\n",
      "  df = pd.read_sql(query, connection)\n"
     ]
    },
    {
     "name": "stdout",
     "output_type": "stream",
     "text": [
      "17 строк получилось в нашей выборке\n",
      "результат в тотал = 485.0\n"
     ]
    }
   ],
   "source": [
    "# Запрос для получения информации о вакансиях компании \"Яндекс\"\n",
    "query = f\"\"\"\n",
    "WITH RegionVacancyCount AS (\n",
    "  SELECT\n",
    "    a.name AS area_name,\n",
    "    COUNT(v.id) AS vacancy_count\n",
    "  FROM AREAS a\n",
    "  JOIN VACANCIES v ON a.id = v.area_id\n",
    "  JOIN EMPLOYERS e ON v.employer_id = e.id\n",
    "  WHERE e.name = 'Яндекс'\n",
    "  GROUP BY a.name\n",
    ")\n",
    "\n",
    "SELECT\n",
    "  area_name,\n",
    "  vacancy_count\n",
    "FROM RegionVacancyCount\n",
    "WHERE area_name IN ({','.join([\"'\" + city + \"'\" for city in million_cities])})\n",
    "\n",
    "UNION ALL\n",
    "\n",
    "SELECT\n",
    "  'Total',\n",
    "  SUM(vacancy_count)\n",
    "FROM RegionVacancyCount\n",
    "WHERE area_name IN ({','.join([\"'\" + city + \"'\" for city in million_cities])})\n",
    "\"\"\"\n",
    "\n",
    "# Выполнение запроса и получение данных в виде DataFrame\n",
    "df = pd.read_sql(query, connection)\n",
    "\n",
    "# Вывод DataFrame\n",
    "print(f\"\"\"{df.shape[0]} строк получилось в нашей выборке\n",
    "результат в тотал = {df[df[\"area_name\"] == \"Total\"].iloc[0, 1]}\"\"\"\n",
    "      )"
   ]
  },
  {
   "cell_type": "markdown",
   "id": "04966e40-3bc3-4dc8-9ba2-e80580ce3abc",
   "metadata": {
    "id": "04966e40-3bc3-4dc8-9ba2-e80580ce3abc"
   },
   "source": [
    "***"
   ]
  },
  {
   "cell_type": "code",
   "execution_count": null,
   "id": "aGGyER-yt4SR",
   "metadata": {
    "id": "aGGyER-yt4SR"
   },
   "outputs": [],
   "source": [
    "# выводы по анализу работодателей"
   ]
  },
  {
   "cell_type": "markdown",
   "id": "b1ef156a-efcb-49ce-bb23-90763e7f35b2",
   "metadata": {
    "id": "b1ef156a-efcb-49ce-bb23-90763e7f35b2",
    "tags": []
   },
   "source": [
    "# Юнит 6. Предметный анализ"
   ]
  },
  {
   "cell_type": "markdown",
   "id": "b9cd50a0-992d-4988-8463-2b2b1c4629b4",
   "metadata": {
    "id": "b9cd50a0-992d-4988-8463-2b2b1c4629b4"
   },
   "source": [
    "1. Сколько вакансий имеет отношение к данным?\n",
    "\n",
    "Считаем, что вакансия имеет отношение к данным, если в её названии содержатся слова 'data' или 'данн'.\n",
    "\n",
    "*Подсказка: Обратите внимание, что названия вакансий могут быть написаны в любом регистре.* \n"
   ]
  },
  {
   "cell_type": "code",
   "execution_count": null,
   "id": "54ab0e50-c0f1-47cc-a54b-bc5c8bc363f9",
   "metadata": {
    "id": "54ab0e50-c0f1-47cc-a54b-bc5c8bc363f9"
   },
   "outputs": [],
   "source": [
    "query = \"\"\"\n",
    "        SELECT COUNT(*)\n",
    "        FROM vacancies\n",
    "        WHERE \n",
    "                LOWER(name) LIKE '%data%' OR\n",
    "                LOWER(name) LIKE '%данн%'\n",
    "\"\"\""
   ]
  },
  {
   "cell_type": "code",
   "execution_count": null,
   "id": "9F1meAqsuUjd",
   "metadata": {
    "id": "9F1meAqsuUjd"
   },
   "outputs": [
    {
     "name": "stdout",
     "output_type": "stream",
     "text": [
      "Количество вакансий, относящихся к данным: 1771\n"
     ]
    },
    {
     "name": "stderr",
     "output_type": "stream",
     "text": [
      "/var/folders/mq/mckdrm5j7zn2z8xvrsj5_s180000gn/T/ipykernel_2718/3107297287.py:1: UserWarning: pandas only supports SQLAlchemy connectable (engine/connection) or database string URI or sqlite3 DBAPI2 connection. Other DBAPI2 objects are not tested. Please consider using SQLAlchemy.\n",
      "  vacancy_count = pd.read_sql_query(query, connection).iloc[0, 0]\n"
     ]
    }
   ],
   "source": [
    "vacancy_count = pd.read_sql_query(query, connection).iloc[0, 0]\n",
    "print(f\"Количество вакансий, относящихся к данным: {vacancy_count}\")"
   ]
  },
  {
   "cell_type": "markdown",
   "id": "4dea20cb-a36b-474a-a0b9-e08e8e3857a5",
   "metadata": {
    "id": "4dea20cb-a36b-474a-a0b9-e08e8e3857a5"
   },
   "source": [
    "2. Сколько есть подходящих вакансий для начинающего дата-сайентиста? \n",
    "Будем считать вакансиями для дата-сайентистов такие, в названии которых есть хотя бы одно из следующих сочетаний:\n",
    "* 'data scientist'\n",
    "* 'data science'\n",
    "* 'исследователь данных'\n",
    "* 'ML' (здесь не нужно брать вакансии по HTML)\n",
    "* 'machine learning'\n",
    "* 'машинн%обучен%'\n",
    "\n",
    "** В следующих заданиях мы продолжим работать с вакансиями по этому условию.*\n",
    "\n",
    "Считаем вакансиями для специалистов уровня Junior следующие:\n",
    "* в названии есть слово 'junior' *или*\n",
    "* требуемый опыт — Нет опыта *или*\n",
    "* тип трудоустройства — Стажировка.\n",
    " "
   ]
  },
  {
   "cell_type": "code",
   "execution_count": null,
   "id": "9c61b3c0-bb66-46c9-ae1e-81d3f5752b4a",
   "metadata": {
    "id": "9c61b3c0-bb66-46c9-ae1e-81d3f5752b4a"
   },
   "outputs": [],
   "source": [
    "query = \"\"\"\n",
    "         SELECT COUNT(*)\n",
    "        FROM vacancies\n",
    "        WHERE (\n",
    "            name ILIKE '%data scientist%' OR\n",
    "            name ILIKE '%data science%' OR\n",
    "            name ILIKE '%исследователь данных%' OR\n",
    "            name ILIKE '%ML%' AND name NOT ILIKE '%HTML%' OR\n",
    "            name ILIKE '%machine learning%' OR\n",
    "            name ILIKE '%машинн%обучен%'\n",
    "            ) AND (\n",
    "            name ILIKE '%junior%' OR\n",
    "            experience = 'Нет опыта' OR\n",
    "            employment = 'Стажировка'\n",
    ")\n",
    "\"\"\""
   ]
  },
  {
   "cell_type": "code",
   "execution_count": null,
   "id": "ZNM-LLYuu1dj",
   "metadata": {
    "id": "ZNM-LLYuu1dj"
   },
   "outputs": [
    {
     "name": "stderr",
     "output_type": "stream",
     "text": [
      "/var/folders/mq/mckdrm5j7zn2z8xvrsj5_s180000gn/T/ipykernel_2718/1752682198.py:1: UserWarning: pandas only supports SQLAlchemy connectable (engine/connection) or database string URI or sqlite3 DBAPI2 connection. Other DBAPI2 objects are not tested. Please consider using SQLAlchemy.\n",
      "  vacancy_count = pd.read_sql_query(query, connection).iloc[0, 0]\n"
     ]
    },
    {
     "name": "stdout",
     "output_type": "stream",
     "text": [
      "Количество вакансий, подходящих для начинающего дата-сайентиста 51\n"
     ]
    }
   ],
   "source": [
    "vacancy_count = pd.read_sql_query(query, connection).iloc[0, 0]\n",
    "print(f\"Количество вакансий, подходящих для начинающего дата-сайентиста {vacancy_count}\")"
   ]
  },
  {
   "cell_type": "markdown",
   "id": "eedceb80-c5ca-480e-b27a-278dfb8b4438",
   "metadata": {
    "id": "eedceb80-c5ca-480e-b27a-278dfb8b4438"
   },
   "source": [
    "3. Сколько есть вакансий для DS, в которых в качестве ключевого навыка указан SQL или postgres?\n",
    "\n",
    "** Критерии для отнесения вакансии к DS указаны в предыдущем задании.*"
   ]
  },
  {
   "cell_type": "code",
   "execution_count": null,
   "id": "69621713-0cc5-4f1b-a1d7-bb144fa6148c",
   "metadata": {
    "id": "69621713-0cc5-4f1b-a1d7-bb144fa6148c"
   },
   "outputs": [],
   "source": [
    "query = \"\"\"\n",
    "        SELECT \n",
    "            v.id,\n",
    "            v.key_skills\n",
    "        FROM vacancies v\n",
    "        WHERE( \n",
    "            (v.key_skills like '%SQL%') OR\n",
    "            (v.key_skills ilike '%postgres%')\n",
    "                )\n",
    "            AND\n",
    "            (\n",
    "            (name ILIKE '%data scientist%')\n",
    "            OR (name ILIKE '%data science%')\n",
    "            OR (name ILIKE '%исследователь данных%')\n",
    "            OR ((name ILIKE '%ML%') AND (name NOT ILIKE '%HTML%'))\n",
    "            OR (name ILIKE '%machine learning%')\n",
    "            OR (name ILIKE '%машинн%обучен%')\n",
    "            AND (key_skills IS NOT NULL)\n",
    "            )\n",
    "\"\"\""
   ]
  },
  {
   "cell_type": "code",
   "execution_count": null,
   "id": "alA8WEAAvGdf",
   "metadata": {
    "id": "alA8WEAAvGdf"
   },
   "outputs": [
    {
     "name": "stderr",
     "output_type": "stream",
     "text": [
      "/var/folders/mq/mckdrm5j7zn2z8xvrsj5_s180000gn/T/ipykernel_2718/2541778471.py:1: UserWarning: pandas only supports SQLAlchemy connectable (engine/connection) or database string URI or sqlite3 DBAPI2 connection. Other DBAPI2 objects are not tested. Please consider using SQLAlchemy.\n",
      "  vacancy_count = pd.read_sql_query(query, connection)\n"
     ]
    },
    {
     "name": "stdout",
     "output_type": "stream",
     "text": [
      "Количество подходящих вакансий:  229\n"
     ]
    }
   ],
   "source": [
    "vacancy_count = pd.read_sql_query(query, connection)\n",
    "print(f\"Количество подходящих вакансий:  {vacancy_count.shape[0]}\")"
   ]
  },
  {
   "cell_type": "markdown",
   "id": "1be1e9c6-37cf-4a5f-bfeb-04cab799dc80",
   "metadata": {
    "id": "1be1e9c6-37cf-4a5f-bfeb-04cab799dc80"
   },
   "source": [
    "4. Проверьте, насколько популярен Python в требованиях работодателей к DS.Для этого вычислите количество вакансий, в которых в качестве ключевого навыка указан Python.\n",
    "\n",
    "** Это можно сделать помощью запроса, аналогичного предыдущему.*"
   ]
  },
  {
   "cell_type": "code",
   "execution_count": null,
   "id": "0036a355-9ccf-4564-8b01-73d8194297e7",
   "metadata": {
    "id": "0036a355-9ccf-4564-8b01-73d8194297e7"
   },
   "outputs": [],
   "source": [
    "query = \"\"\"\n",
    "        SELECT \n",
    "                v.id,\n",
    "                v.key_skills\n",
    "        FROM vacancies v\n",
    "        WHERE( \n",
    "                (v.key_skills like '%Python%')\n",
    "                )\n",
    "                AND\n",
    "                (\n",
    "                (name ILIKE '%data scientist%') OR (name ILIKE '%data science%') OR (name ILIKE '%исследователь данных%')\n",
    "                OR ((name ILIKE '%ML%') AND (name NOT ILIKE '%HTML%'))\n",
    "                OR (name ILIKE '%machine learning%')\n",
    "                OR (name ILIKE '%машинн%обучен%')\n",
    "                AND (key_skills IS NOT NULL)\n",
    "                )\n",
    "\"\"\""
   ]
  },
  {
   "cell_type": "code",
   "execution_count": null,
   "id": "1i-5WyucvQ6v",
   "metadata": {
    "id": "1i-5WyucvQ6v"
   },
   "outputs": [
    {
     "name": "stdout",
     "output_type": "stream",
     "text": [
      "Количество подходящих вакансий:  357\n"
     ]
    },
    {
     "name": "stderr",
     "output_type": "stream",
     "text": [
      "/var/folders/mq/mckdrm5j7zn2z8xvrsj5_s180000gn/T/ipykernel_2718/2541778471.py:1: UserWarning: pandas only supports SQLAlchemy connectable (engine/connection) or database string URI or sqlite3 DBAPI2 connection. Other DBAPI2 objects are not tested. Please consider using SQLAlchemy.\n",
      "  vacancy_count = pd.read_sql_query(query, connection)\n"
     ]
    }
   ],
   "source": [
    "vacancy_count = pd.read_sql_query(query, connection)\n",
    "print(f\"Количество подходящих вакансий:  {vacancy_count.shape[0]}\")"
   ]
  },
  {
   "cell_type": "markdown",
   "id": "ec3c8db7-fa21-4a41-a994-1af63742a642",
   "metadata": {
    "id": "ec3c8db7-fa21-4a41-a994-1af63742a642"
   },
   "source": [
    "5. Сколько ключевых навыков в среднем указывают в вакансиях для DS?\n",
    "Ответ округлите до двух знаков после точки-разделителя."
   ]
  },
  {
   "cell_type": "code",
   "execution_count": null,
   "id": "949132bc-d5b6-4611-8218-0b9a504d74f4",
   "metadata": {
    "id": "949132bc-d5b6-4611-8218-0b9a504d74f4"
   },
   "outputs": [],
   "source": [
    "query = f'''\n",
    "    SELECT\n",
    "        ROUND(AVG(LENGTH(v.key_skills) - LENGTH(REPLACE(v.key_skills, CHR(9), '')) + 1), 2)\n",
    "    FROM\n",
    "        vacancies v\n",
    "    WHERE\n",
    "    (\n",
    "        LOWER(v.name) LIKE '%data scientist%'\n",
    "        OR LOWER(v.name) LIKE '%data science%'\n",
    "        OR LOWER(v.name) LIKE '%machine learning%'\n",
    "        OR (v.name LIKE '%ML%' AND LOWER(v.name) NOT LIKE '%html%')\n",
    "        OR LOWER(v.name) LIKE '%исследователь данных%'\n",
    "        OR LOWER(v.name) LIKE '%машинн%обучен%'\n",
    "    )\n",
    "    AND\n",
    "    (\n",
    "        v.key_skills IS NOT NULL\n",
    "    )\n",
    "'''"
   ]
  },
  {
   "cell_type": "code",
   "execution_count": null,
   "id": "a3V24Tvmviqk",
   "metadata": {
    "id": "a3V24Tvmviqk"
   },
   "outputs": [
    {
     "name": "stderr",
     "output_type": "stream",
     "text": [
      "/var/folders/mq/mckdrm5j7zn2z8xvrsj5_s180000gn/T/ipykernel_2718/478506846.py:1: UserWarning: pandas only supports SQLAlchemy connectable (engine/connection) or database string URI or sqlite3 DBAPI2 connection. Other DBAPI2 objects are not tested. Please consider using SQLAlchemy.\n",
      "  vacancy = pd.read_sql_query(query, connection)\n"
     ]
    },
    {
     "name": "stdout",
     "output_type": "stream",
     "text": [
      "навыков в среднем указывают в вакансиях для DS:     round\n",
      "0   6.41\n"
     ]
    }
   ],
   "source": [
    "vacancy = pd.read_sql_query(query, connection)\n",
    "print(f\"навыков в среднем указывают в вакансиях для DS:  {vacancy}\")"
   ]
  },
  {
   "cell_type": "markdown",
   "id": "1041c17a-ca8f-4543-a0ca-32778914fb00",
   "metadata": {
    "id": "1041c17a-ca8f-4543-a0ca-32778914fb00"
   },
   "source": [
    "6. Напишите запрос, позволяющий вычислить, какую зарплату для DS в **среднем** указывают для каждого типа требуемого опыта (уникальное значение из поля *experience*). \n",
    "\n",
    "При решении задачи примите во внимание следующее:\n",
    "1. Рассматриваем только вакансии, у которых заполнено хотя бы одно из двух полей с зарплатой.\n",
    "2. Если заполнены оба поля с зарплатой, то считаем зарплату по каждой вакансии как сумму двух полей, делённую на 2. Если заполнено только одно из полей, то его и считаем зарплатой по вакансии.\n",
    "3. Если в расчётах участвует null, в результате он тоже даст null (посмотрите, что возвращает запрос select 1 + null). Чтобы избежать этой ситуацию, мы воспользуемся функцией [coalesce](https://postgrespro.ru/docs/postgresql/9.5/functions-conditional#functions-coalesce-nvl-ifnull), которая заменит null на значение, которое мы передадим. Например, посмотрите, что возвращает запрос `select 1 + coalesce(null, 0)`\n",
    "\n",
    "Выясните, на какую зарплату в среднем может рассчитывать дата-сайентист с опытом работы от 3 до 6 лет. Результат округлите до целого числа. "
   ]
  },
  {
   "cell_type": "code",
   "execution_count": null,
   "id": "6a743d39-5204-48d3-8271-b9f88e68d40e",
   "metadata": {
    "id": "6a743d39-5204-48d3-8271-b9f88e68d40e"
   },
   "outputs": [
    {
     "data": {
      "text/plain": [
       "\"select\\n\\n  v.experience, ROUND(AVG(coalesce((v.salary_from + v.salary_to) / 2, v.salary_from, v.salary_to)), 0)\\n\\nfrom vacancies v\\n\\nWHERE\\n(\\n       (v.name ILIKE '%data scientist%')\\n    OR (lower(v.name) ILIKE '%data science%')\\n    OR (v.name ILIKE '%исследователь данных%')\\n    OR (v.name  LIKE '%ML%' AND  (v.name NOT iLIKE '%html%'))\\n    OR (v.name ILIKE '%machine learning%')\\n    OR (v.name ILIKE '%машинн%обучен%')\\n    AND (key_skills IS NOT NULL)\\n)\\n\\nGROUP BY v.experience\\nORDER BY 1\""
      ]
     },
     "execution_count": 158,
     "metadata": {},
     "output_type": "execute_result"
    }
   ],
   "source": [
    "query = f\"\"\"\n",
    "    SELECT\n",
    "  v.experience,\n",
    "  ROUND(AVG(coalesce((v.salary_from + v.salary_to) / 2, v.salary_from, v.salary_to)), 0)\n",
    "FROM vacancies v\n",
    "WHERE\n",
    "(\n",
    "       (v.name ILIKE '%data scientist%')\n",
    "    OR (lower(v.name) ILIKE '%data science%')\n",
    "    OR (v.name ILIKE '%исследователь данных%')\n",
    "    OR (v.name  LIKE '%ML%' AND  (v.name NOT iLIKE '%html%'))\n",
    "    OR (v.name ILIKE '%machine learning%')\n",
    "    OR (v.name ILIKE '%машинн%обучен%')\n",
    "    AND (key_skills IS NOT NULL)\n",
    ")\n",
    "GROUP BY v.experience\n",
    "ORDER BY 1\"\"\"\n",
    "    \n",
    "\"\"\"select\n",
    "\n",
    "  v.experience, ROUND(AVG(coalesce((v.salary_from + v.salary_to) / 2, v.salary_from, v.salary_to)), 0)\n",
    "\n",
    "from vacancies v\n",
    "\n",
    "WHERE\n",
    "(\n",
    "       (v.name ILIKE '%data scientist%')\n",
    "    OR (lower(v.name) ILIKE '%data science%')\n",
    "    OR (v.name ILIKE '%исследователь данных%')\n",
    "    OR (v.name  LIKE '%ML%' AND  (v.name NOT iLIKE '%html%'))\n",
    "    OR (v.name ILIKE '%machine learning%')\n",
    "    OR (v.name ILIKE '%машинн%обучен%')\n",
    "    AND (key_skills IS NOT NULL)\n",
    ")\n",
    "\n",
    "GROUP BY v.experience\n",
    "ORDER BY 1\"\"\""
   ]
  },
  {
   "cell_type": "code",
   "execution_count": null,
   "id": "aRIJ0mZEwU1_",
   "metadata": {
    "id": "aRIJ0mZEwU1_"
   },
   "outputs": [
    {
     "name": "stderr",
     "output_type": "stream",
     "text": [
      "/var/folders/mq/mckdrm5j7zn2z8xvrsj5_s180000gn/T/ipykernel_2718/2479061017.py:1: UserWarning: pandas only supports SQLAlchemy connectable (engine/connection) or database string URI or sqlite3 DBAPI2 connection. Other DBAPI2 objects are not tested. Please consider using SQLAlchemy.\n",
      "  df = pd.read_sql_query(query, connection)\n"
     ]
    },
    {
     "name": "stdout",
     "output_type": "stream",
     "text": [
      "           experience     round\n",
      "0         Более 6 лет       NaN\n",
      "1           Нет опыта   74643.0\n",
      "2  От 1 года до 3 лет  145236.0\n",
      "3       От 3 до 6 лет  243115.0\n"
     ]
    }
   ],
   "source": [
    "df = pd.read_sql_query(query, connection)\n",
    "print(df)"
   ]
  },
  {
   "cell_type": "markdown",
   "id": "6a7892b4-4113-4746-adce-18aa2844f18e",
   "metadata": {
    "id": "6a7892b4-4113-4746-adce-18aa2844f18e"
   },
   "source": [
    "***"
   ]
  },
  {
   "cell_type": "markdown",
   "id": "c0ED6fh7wiBT",
   "metadata": {
    "id": "c0ED6fh7wiBT"
   },
   "source": [
    "# Общий вывод по проекту"
   ]
  },
  {
   "cell_type": "code",
   "execution_count": 12,
   "id": "b91e57d8",
   "metadata": {},
   "outputs": [],
   "source": [
    "query = f\"\"\"\n",
    "    SELECT DISTINCT name\n",
    "    FROM industries\n",
    "\"\"\""
   ]
  },
  {
   "cell_type": "code",
   "execution_count": 14,
   "id": "h9B3BL-wwj18",
   "metadata": {
    "id": "h9B3BL-wwj18"
   },
   "outputs": [
    {
     "name": "stderr",
     "output_type": "stream",
     "text": [
      "/var/folders/mq/mckdrm5j7zn2z8xvrsj5_s180000gn/T/ipykernel_7885/1352746026.py:1: UserWarning: pandas only supports SQLAlchemy connectable (engine/connection) or database string URI or sqlite3 DBAPI2 connection. Other DBAPI2 objects are not tested. Please consider using SQLAlchemy.\n",
      "  df = pd.read_sql_query(query, connection)\n"
     ]
    },
    {
     "data": {
      "text/html": [
       "<div>\n",
       "<style scoped>\n",
       "    .dataframe tbody tr th:only-of-type {\n",
       "        vertical-align: middle;\n",
       "    }\n",
       "\n",
       "    .dataframe tbody tr th {\n",
       "        vertical-align: top;\n",
       "    }\n",
       "\n",
       "    .dataframe thead th {\n",
       "        text-align: right;\n",
       "    }\n",
       "</style>\n",
       "<table border=\"1\" class=\"dataframe\">\n",
       "  <thead>\n",
       "    <tr style=\"text-align: right;\">\n",
       "      <th></th>\n",
       "      <th>name</th>\n",
       "    </tr>\n",
       "  </thead>\n",
       "  <tbody>\n",
       "    <tr>\n",
       "      <th>274</th>\n",
       "      <td>Судоремонт</td>\n",
       "    </tr>\n",
       "    <tr>\n",
       "      <th>275</th>\n",
       "      <td>Энергоснабжение</td>\n",
       "    </tr>\n",
       "    <tr>\n",
       "      <th>276</th>\n",
       "      <td>Автокомпоненты, запчасти (производство)</td>\n",
       "    </tr>\n",
       "    <tr>\n",
       "      <th>277</th>\n",
       "      <td>Складские услуги</td>\n",
       "    </tr>\n",
       "    <tr>\n",
       "      <th>278</th>\n",
       "      <td>Управление и эксплуатация недвижимости</td>\n",
       "    </tr>\n",
       "    <tr>\n",
       "      <th>279</th>\n",
       "      <td>Тренинговые компании</td>\n",
       "    </tr>\n",
       "    <tr>\n",
       "      <th>280</th>\n",
       "      <td>Розничная торговля автомобилями (дилерский центр)</td>\n",
       "    </tr>\n",
       "    <tr>\n",
       "      <th>281</th>\n",
       "      <td>Интернет-провайдер</td>\n",
       "    </tr>\n",
       "    <tr>\n",
       "      <th>282</th>\n",
       "      <td>Морские, речные перевозки</td>\n",
       "    </tr>\n",
       "    <tr>\n",
       "      <th>283</th>\n",
       "      <td>Управляющая компания группы, холдинга, штаб-кв...</td>\n",
       "    </tr>\n",
       "    <tr>\n",
       "      <th>284</th>\n",
       "      <td>Лаборатория, исследовательский центр</td>\n",
       "    </tr>\n",
       "    <tr>\n",
       "      <th>285</th>\n",
       "      <td>Добыча и обогащение минерального сырья (соль, ...</td>\n",
       "    </tr>\n",
       "    <tr>\n",
       "      <th>286</th>\n",
       "      <td>Контроль качества, экспертиза, испытания и сер...</td>\n",
       "    </tr>\n",
       "    <tr>\n",
       "      <th>287</th>\n",
       "      <td>Профессиональная, предпринимательская организация</td>\n",
       "    </tr>\n",
       "    <tr>\n",
       "      <th>288</th>\n",
       "      <td>Государственные организации</td>\n",
       "    </tr>\n",
       "    <tr>\n",
       "      <th>289</th>\n",
       "      <td>Финансово-кредитное посредничество (биржа, бро...</td>\n",
       "    </tr>\n",
       "    <tr>\n",
       "      <th>290</th>\n",
       "      <td>Продукция железнодорожного машиностроения, ваг...</td>\n",
       "    </tr>\n",
       "    <tr>\n",
       "      <th>291</th>\n",
       "      <td>Бетон, кирпич, стекло и прочие силикаты (произ...</td>\n",
       "    </tr>\n",
       "    <tr>\n",
       "      <th>292</th>\n",
       "      <td>Масложировая продукция (продвижение, оптовая т...</td>\n",
       "    </tr>\n",
       "    <tr>\n",
       "      <th>293</th>\n",
       "      <td>Сахар (продвижение, оптовая торговля)</td>\n",
       "    </tr>\n",
       "  </tbody>\n",
       "</table>\n",
       "</div>"
      ],
      "text/plain": [
       "                                                  name\n",
       "274                                         Судоремонт\n",
       "275                                    Энергоснабжение\n",
       "276            Автокомпоненты, запчасти (производство)\n",
       "277                                   Складские услуги\n",
       "278             Управление и эксплуатация недвижимости\n",
       "279                               Тренинговые компании\n",
       "280  Розничная торговля автомобилями (дилерский центр)\n",
       "281                                 Интернет-провайдер\n",
       "282                          Морские, речные перевозки\n",
       "283  Управляющая компания группы, холдинга, штаб-кв...\n",
       "284               Лаборатория, исследовательский центр\n",
       "285  Добыча и обогащение минерального сырья (соль, ...\n",
       "286  Контроль качества, экспертиза, испытания и сер...\n",
       "287  Профессиональная, предпринимательская организация\n",
       "288                        Государственные организации\n",
       "289  Финансово-кредитное посредничество (биржа, бро...\n",
       "290  Продукция железнодорожного машиностроения, ваг...\n",
       "291  Бетон, кирпич, стекло и прочие силикаты (произ...\n",
       "292  Масложировая продукция (продвижение, оптовая т...\n",
       "293              Сахар (продвижение, оптовая торговля)"
      ]
     },
     "metadata": {},
     "output_type": "display_data"
    }
   ],
   "source": [
    "df = pd.read_sql_query(query, connection)\n",
    "display(df.tail(20))"
   ]
  }
 ],
 "metadata": {
  "colab": {
   "collapsed_sections": [
    "8d62a9f3-f64e-4fe7-bdac-c4dffa16155e"
   ],
   "provenance": []
  },
  "kernelspec": {
   "display_name": "myenv",
   "language": "python",
   "name": "python3"
  },
  "language_info": {
   "codemirror_mode": {
    "name": "ipython",
    "version": 3
   },
   "file_extension": ".py",
   "mimetype": "text/x-python",
   "name": "python",
   "nbconvert_exporter": "python",
   "pygments_lexer": "ipython3",
   "version": "3.12.4"
  }
 },
 "nbformat": 4,
 "nbformat_minor": 5
}
